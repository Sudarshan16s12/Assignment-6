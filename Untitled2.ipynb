{
 "cells": [
  {
   "cell_type": "code",
   "execution_count": null,
   "id": "12154eac",
   "metadata": {},
   "outputs": [],
   "source": [
    "import json\n",
    "x={\n",
    "    \"employee_details\":[\n",
    "        {\n",
    "            \"employee_name\": \"Sudarshan\",\n",
    "            \"DOB\": \"16/12/2000\",\n",
    "            \"Height\": \"5.9\",\n",
    "            \"City\": \"Bengaluru\",\n",
    "            \"State\": \"Karnataka\"\n",
    "        },\n",
    "        {\n",
    "            \"employee_name\": \"Srinivas\",\n",
    "            \"DOB\": \"17/04/1998\",\n",
    "            \"Height\": \"5.8\",\n",
    "            \"City\": \"Pune\",\n",
    "            \"State\": \"Maharashtra\"\n",
    "        },\n",
    "        {      \n",
    "            \"employee_name\": \"Sashank\",\n",
    "            \"DOB\": \"14/07/2001\",\n",
    "            \"Height\": \"5.6\",\n",
    "            \"City\": \"Bidar\",\n",
    "            \"State\": \"Karnataka\"  \n",
    "        },\n",
    "        {\n",
    "            \"employee_name\": \"Shantkumar\",\n",
    "            \"DOB\": \"20/06/2000\",\n",
    "            \"Height\": \"5.9\",\n",
    "            \"City\": \"Bengaluru\",\n",
    "            \"State\": \"Karnataka\"  \n",
    "        },\n",
    "        {\n",
    "            \"employee_name\": \"Avinash\",\n",
    "            \"DOB\": 15/11/1994\",\n",
    "            \"Height\": \"5.7\",\n",
    "            \"City\": \"Bengaluru\",\n",
    "            \"State\": \"Karnataka\"\n",
    "        }\n",
    "    ]   \n",
    "}\n",
    "with open(\"employee.json\",\"w\") as f:\n",
    "    json.dump(x,f,indent=5)\n",
    "    print(\"jsonfile generated\")"
   ]
  }
 ],
 "metadata": {
  "kernelspec": {
   "display_name": "Python 3 (ipykernel)",
   "language": "python",
   "name": "python3"
  },
  "language_info": {
   "codemirror_mode": {
    "name": "ipython",
    "version": 3
   },
   "file_extension": ".py",
   "mimetype": "text/x-python",
   "name": "python",
   "nbconvert_exporter": "python",
   "pygments_lexer": "ipython3",
   "version": "3.9.13"
  }
 },
 "nbformat": 4,
 "nbformat_minor": 5
}
